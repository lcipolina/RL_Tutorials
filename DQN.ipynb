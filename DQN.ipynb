{
  "nbformat": 4,
  "nbformat_minor": 0,
  "metadata": {
    "colab": {
      "provenance": [],
      "authorship_tag": "ABX9TyMzq8lbFA5aA0J4t/heKo2t",
      "include_colab_link": true
    },
    "kernelspec": {
      "name": "python3",
      "display_name": "Python 3"
    },
    "language_info": {
      "name": "python"
    }
  },
  "cells": [
    {
      "cell_type": "markdown",
      "metadata": {
        "id": "view-in-github",
        "colab_type": "text"
      },
      "source": [
        "<a href=\"https://colab.research.google.com/github/lcipolina/RL_Tutorials/blob/main/DQN.ipynb\" target=\"_parent\"><img src=\"https://colab.research.google.com/assets/colab-badge.svg\" alt=\"Open In Colab\"/></a>"
      ]
    },
    {
      "cell_type": "markdown",
      "source": [
        "# DQN Tutorial\n",
        "\n",
        "Following:\n",
        "\n",
        "https://www.youtube.com/watch?v=EUrWGTCGzlA&list=PL58zEckBH8fCt_lYkmayZoR9XfDCW9hte"
      ],
      "metadata": {
        "id": "tJfXnrTrHqu3"
      }
    },
    {
      "cell_type": "markdown",
      "source": [
        "### Steps to Train a DQN algorithm\n",
        "\n",
        "\n",
        "* Environment\n",
        "* Epsilon-greedy algorithm\n",
        "* Builing the Q-Table\n",
        "* Experience replay\n",
        "* Training\n",
        "* Analyzing results\n"
      ],
      "metadata": {
        "id": "uLE7370CHxTa"
      }
    },
    {
      "cell_type": "code",
      "source": [],
      "metadata": {
        "id": "ZmM-sFSxHu1m"
      },
      "execution_count": null,
      "outputs": []
    }
  ]
}